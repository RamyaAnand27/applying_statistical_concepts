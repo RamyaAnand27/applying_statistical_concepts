{
    "cells": [
     {
      "cell_type": "markdown",
      "id": "7b0bcac6-5086-4f4e-928a-570a9ff7ae58",
      "metadata": {},
      "source": [
       "# Assignment 3"
      ]
     },
     {
      "cell_type": "markdown",
      "id": "5fce0350-2a17-4e93-8d4c-0b8748fdfc32",
      "metadata": {},
      "source": [
       "As before, if a question can be answered with 'yes/no', or a numeric value, you may simply state as much. If you incorporate code from the internet (which is not required and generally not advisable), please cite the source within your code (providing a URL is sufficient).\n",
       "\n",
       "We will go through comparable code and concepts in the live learning session. If you run into trouble, start by using the help `help()` function in Python, to get information about the datasets and function in question. The internet is also a great resource when coding (though note that no outside searches are required by the assignment!). If you do incorporate code from the internet, please cite the source within your code (providing a URL is sufficient).\n",
       "\n",
       "Please bring questions that you cannot work out on your own to office hours, work periods or share with your peers on Slack. We will work with you through the issue."
      ]
     },
     {
      "cell_type": "code",
      "execution_count": 4,
      "id": "b92f7c91",
      "metadata": {},
      "outputs": [],
      "source": [
       "import numpy as np\n",
       "import pandas as pd\n",
       "import matplotlib.pyplot as plt\n",
       "import statsmodels.api as sm"
      ]
     },
     {
      "cell_type": "markdown",
      "id": "d7fff1dd-e4ce-4a60-96a0-d08136e9bf5e",
      "metadata": {},
      "source": [
       "### Question 1: Resampling via Bootstrapping\n",
       "\n",
       "Now, we'll use the `iris` dataset, which we will add to Python using the `statsmodels` library. As always, start by reviewing a description of the dataset, by printing the dataset."
      ]
     },
     {
      "cell_type": "code",
      "execution_count": 5,
      "id": "47f4dcf5-0d4c-41ea-892d-d9f2c1aa1859",
      "metadata": {},
      "outputs": [],
      "source": [
       "# Import\n",
       "iris = sm.datasets.get_rdataset('iris', 'datasets')\n",
       "df = pd.DataFrame(iris.data)"
      ]
     },
     {
      "cell_type": "markdown",
      "id": "7717a32c",
      "metadata": {},
      "source": [
       "_(i)_ Create an `alpha_func(D, idx)` function which takes the `Sepal`'s `width` and `length` to calculate for alpha"
      ]
     },
     {
      "cell_type": "code",
      "execution_count": 6,
      "id": "f3da5483",
      "metadata": {},
      "outputs": [],
      "source": [
       "# Your code here\n",
       "def alpha_func(D, idx):\n",
       "   cov_ = np.cov(D[['Sepal.Width','Sepal.Length']].loc[idx], rowvar=False)\n",
       "   return ((cov_[1,1] - cov_[0,1]) /\n",
       "           (cov_[0,0]+cov_[1,1]-2*cov_[0,1]))"
      ]
     },
     {
      "cell_type": "markdown",
      "id": "ff94d66b",
      "metadata": {},
      "source": [
       "Test the code below"
      ]
     },
     {
      "cell_type": "code",
      "execution_count": 7,
      "id": "eda715cd",
      "metadata": {},
      "outputs": [
       {
        "data": {
         "text/plain": [
          "0.6189498510165619"
         ]
        },
        "execution_count": 7,
        "metadata": {},
        "output_type": "execute_result"
       }
      ],
      "source": [
       "alpha_func(df, range(100))"
      ]
     },
     {
      "cell_type": "markdown",
      "id": "f338b14e",
      "metadata": {},
      "source": [
       "_(ii)_ Construct a new bootstrap data set and recompute alpha"
      ]
     },
     {
      "cell_type": "code",
      "execution_count": 8,
      "id": "34ee835f",
      "metadata": {},
      "outputs": [
       {
        "data": {
         "text/plain": [
          "0.6675354865158225"
         ]
        },
        "execution_count": 8,
        "metadata": {},
        "output_type": "execute_result"
       }
      ],
      "source": [
       "rng = np.random.default_rng(0)\n",
       "alpha_func(df,\n",
       "           rng.choice(100,\n",
       "                      100,\n",
       "                      replace=True))"
      ]
     },
     {
      "cell_type": "markdown",
      "id": "056080ff-7aec-41aa-bb61-763b390e4cf2",
      "metadata": {},
      "source": [
       "Imagine we are analysts working for a shipping company. The company wants to know the average length of iris' petals, to inform space allotment on an upcoming shipment. The relevant variable in the dataset is `Sepal.Length`. \n",
       "\n",
       "_(iii)_ Why is it (perhaps) not sufficient to simply calculate the mean of `Sepal.Length`? What more information will preforming a bootstrap provide to us?  \n",
       "The mean alone does not convey any information about the spread or variability of the data. The mean can be heavily influenced by outliers or extreme values. A few very high or very low values can skew the mean, making it unrepresentative of the typical values in the dataset. Bootstrapping involves repeatedly sampling (with replacement) from the dataset and recalculating the mean (or another statistic) for each sample. This process generates an empirical distribution of the mean, providing insight into the variability and distribution of the mean.\n",
       "\n",
       "_(iv)_ We can perform bootstrapping in Python by defining a simple function using `boot_SE()` for computing the bootstrap standard error. Remember, because bootstrapping involves randomness, we must first set a seed for reproducibility!"
      ]
     },
     {
      "cell_type": "code",
      "execution_count": 9,
      "id": "77540f76-7747-4dba-8e77-e1ded54af536",
      "metadata": {},
      "outputs": [],
      "source": [
       "# Add your code here to set the seed\n",
       "\n",
       "import warnings\n",
       "\n",
       "def boot_SE(func,\n",
       "            D,\n",
       "            n=None,\n",
       "            B=1000,\n",
       "            seed=0):\n",
       "    # NOTE: Suppress FutureWarning in ISLP.models.columns\n",
       "    # The warning is related to Series.__getitem__ treating keys as positions, which is deprecated.\n",
       "    # Since ISLP is an external library that I don't control, and this specific warning does not\n",
       "    # affect my current usage, I'm suppressing it to keep the output clean and focused on relevant information.\n",
       "    warnings.filterwarnings(action='ignore', category=FutureWarning, module='ISLP.models.columns', lineno=151)\n",
       "    \n",
       "    rng = np.random.default_rng(seed)\n",
       "    first_, second_ = 0, 0\n",
       "    n = n or D.shape[0]\n",
       "    bootstrap_statistics = np.empty(B)\n",
       "    for i in range(B):\n",
       "        idx = rng.choice(D.index,\n",
       "                         n,\n",
       "                         replace=True)\n",
       "        value = func(D, idx)\n",
       "        first_ += value\n",
       "        second_ += value**2\n",
       "        bootstrap_statistics[i] = value\n",
       "    return np.sqrt(second_ / B - (first_ / B)**2), bootstrap_statistics"
      ]
     },
     {
      "cell_type": "markdown",
      "id": "8a543472",
      "metadata": {},
      "source": [
       "_(v)_ Evaluate the accuracy of our alpha estimate with B = 1000"
      ]
     },
     {
      "cell_type": "code",
      "execution_count": 10,
      "id": "9ed41c4e",
      "metadata": {},
      "outputs": [],
      "source": [
       "# Your code here\n",
       "\n",
       "def mean_statistic(data, idx):\n",
       "    return data.loc[idx, 'Sepal.Length'].mean()\n",
       "\n",
       "stdev, boot_samples = boot_SE(mean_statistic,\n",
       "                   df,\n",
       "                   B=1000,\n",
       "                   seed=0)"
      ]
     },
     {
      "cell_type": "markdown",
      "id": "785fe758-f395-40b6-a9a3-28ec2efeba29",
      "metadata": {},
      "source": [
       "_(vi)_ What is the original mean value of `Sepal.Length`?\n",
       "\n",
       "5.843333333333334\n",
       "\n",
       "Next, let's look _inside_ our bootstrapping to understand the new, bootstrapped sample we have created. Let's review the bootstrapped range, by using `t_range = np.ptp(boot_se_samples)`.\n",
       "\n",
       " 0.3873333333333342\n",
       " \n",
       "_(vii)_. Write code to review the bootstrapped mean value, and the standard deviation of the bootstrapped samples. Compare the mean against its original value.\n",
       "The boot sample mean is 5.842284666666666 which is almost similar to original mean 5.843333333333334.\n",
       "The standard deviation of boot sample is 0.06649295592135049"
      ]
     },
     {
      "cell_type": "code",
      "execution_count": 11,
      "id": "7686243c",
      "metadata": {},
      "outputs": [
       {
        "name": "stdout",
        "output_type": "stream",
        "text": [
         "original mean: 5.843333333333334\n",
         "t range: 0.3873333333333342\n",
         "boot sample mean: 5.842284666666666\n",
         "boot sample standard deviation: 0.06649295592099295\n"
        ]
       }
      ],
      "source": [
       "# Add your code here\n",
       "\n",
       "mean = np.mean(df['Sepal.Length'])\n",
       "print(f'original mean: {mean}')\n",
       "\n",
       "t_range = np.ptp(boot_samples)\n",
       "print(f't range: {t_range}')\n",
       "\n",
       "b_mean = np.mean(boot_samples)\n",
       "print(f'boot sample mean: {b_mean}')\n",
       "\n",
       "b_stdev = np.std(boot_samples)\n",
       "print(f'boot sample standard deviation: {b_stdev}')"
      ]
     },
     {
      "cell_type": "markdown",
      "id": "66c6c663-f3bb-4a15-8896-6dccfb7259fd",
      "metadata": {},
      "source": [
       "_(viii)_ Next, let's compute 95% confidence intervals, for the mean value of iris petal length. (Hint: use the `np.percentile` function)"
      ]
     },
     {
      "cell_type": "code",
      "execution_count": 14,
      "id": "74de4a76-e500-4c93-82a9-e7365cc86c91",
      "metadata": {},
      "outputs": [
       {
        "name": "stdout",
        "output_type": "stream",
        "text": [
         "5.718616666666667 5.974716666666667\n"
        ]
       }
      ],
      "source": [
       "# Add your code here\n",
       "\n",
       "# Calculate the confidence intervals\n",
       "confidence_level = 0.95\n",
       "alpha = (1 - confidence_level) / 2\n",
       "lower_bound = np.percentile(boot_samples, 100 * alpha)\n",
       "upper_bound = np.percentile(boot_samples, 100 * (1 - alpha))\n",
       "print(lower_bound, upper_bound)"
      ]
     },
     {
      "cell_type": "markdown",
      "id": "488e54f7-ebe4-4740-835c-9832320005d0",
      "metadata": {},
      "source": [
       "_(ix)_. Use the plot function to create an histogram of the bootstrapped samples. What does this histogram show ?\n",
       "\n",
       "The figure shows the Histogram of the Mean statistics of the bootstrap sample."
      ]
     },
     {
      "cell_type": "code",
      "execution_count": 15,
      "id": "4fca4e3f",
      "metadata": {},
      "outputs": [
       {
        "data": {
         "image/png": "[encoded data removed]",
         "text/plain": [
          "<Figure size 640x480 with 1 Axes>"
         ]
        },
        "metadata": {},
        "output_type": "display_data"
       }
      ],
      "source": [
       "#Complete this\n",
       "\n",
       "# Create a figure and axis\n",
       "fig, ax = plt.subplots()\n",
       "\n",
       "# Create the histogram\n",
       "ax.hist(boot_samples, bins=10, edgecolor='black')\n",
       "\n",
       "# Add a title\n",
       "ax.set_title('Histogram of Bootstrap Samples')\n",
       "\n",
       "# Add a label to the x-axis\n",
       "ax.set_xlabel('Mean Statistic')\n",
       "\n",
       "# Add a label to the y-axis\n",
       "ax.set_ylabel('Frequency')\n",
       "\n",
       "# Show the plot\n",
       "plt.show()"
      ]
     },
     {
      "cell_type": "markdown",
      "id": "bfa9a095-9c7a-4ab5-aa99-b11bf419fae0",
      "metadata": {},
      "source": [
       "_(x)_ Given your bootstrapped analysis, what do you recommend to shipping company? "
      ]
     },
     {
      "cell_type": "code",
      "execution_count": null,
      "id": "5e83202e-4aab-44bb-8586-5d0e82e9e201",
      "metadata": {},
      "outputs": [],
      "source": [
       "# Write your answer here\n",
       "\n",
       "The company wanted to know the average length of 'iris' petals, to inform space allotment on an upcoming shipment. \n",
       "According to the confidence_level calculated on the bootstrap sample means, the upper_bound is 5.974716666666667\n",
       "which can be inferred also from the histogram above where some of the sample frequencies fall. So, I would recommend\n",
       "the average length of the 'iris' petals to be rounded off to 6.05 (=> 5.98 + 0.067 (stdev))"
      ]
     },
     {
      "cell_type": "markdown",
      "id": "466943e8",
      "metadata": {},
      "source": [
       "# Criteria\n",
       "\n",
       "|Criteria            |Complete           |Incomplete          |\n",
       "|--------------------|---------------|--------------|\n",
       "|Bootstrapping|All steps are done correctly and the answers are correct.|At least one step is done incorrectly leading to a wrong answer.|"
      ]
     },
     {
      "cell_type": "markdown",
      "id": "68b8a226",
      "metadata": {},
      "source": [
       "## Submission Information\n",
       "\n",
       "🚨 **Please review our [Assignment Submission Guide](https://github.com/UofT-DSI/onboarding/blob/main/onboarding_documents/submissions.md)** 🚨 for detailed instructions on how to format, branch, and submit your work. Following these guidelines is crucial for your submissions to be evaluated correctly.\n",
       "\n",
       "### Note:\n",
       "\n",
       "If you like, you may collaborate with others in the cohort. If you choose to do so, please indicate with whom you have worked with in your pull request by tagging their GitHub username. Separate submissions are required.\n",
       "\n",
       "\n",
       "### Submission Parameters:\n",
       "* Submission Due Date: `HH:MM AM/PM - DD/MM/YYYY`\n",
       "* The branch name for your repo should be: `assignment-3`\n",
       "* What to submit for this assignment:\n",
       "    * This Jupyter Notebook (assignment_3.ipynb) should be populated and should be the only change in your pull request.\n",
       "* What the pull request link should look like for this assignment: `https://github.com/<your_github_username>/applied_statistical_concepts/pull/<pr_id>`\n",
       "    * Open a private window in your browser. Copy and paste the link to your pull request into the address bar. Make sure you can see your pull request properly. This helps the technical facilitator and learning support staff review your submission easily.\n",
       "\n",
       "Checklist:\n",
       "- [ ] Created a branch with the correct naming convention.\n",
       "- [ ] Ensured that the repository is public.\n",
       "- [ ] Reviewed the PR description guidelines and adhered to them.\n",
       "- [ ] Verify that the link is accessible in a private browser window.\n",
       "\n",
       "If you encounter any difficulties or have questions, please don't hesitate to reach out to our team via our Slack at `#cohort-3-help`. Our Technical Facilitators and Learning Support staff are here to help you navigate any challenges.\n"
      ]
     }
    ],
    "metadata": {
     "kernelspec": {
      "display_name": "Python 3.10.4",
      "language": "python",
      "name": "python3"
     },
     "language_info": {
      "codemirror_mode": {
       "name": "ipython",
       "version": 3
      },
      "file_extension": ".py",
      "mimetype": "text/x-python",
      "name": "python",
      "nbconvert_exporter": "python",
      "pygments_lexer": "ipython3",
      "version": "3.9.15"
     },
     "vscode": {
      "interpreter": {
       "hash": "497a84dc8fec8cf8d24e7e87b6d954c9a18a327edc66feb9b9ea7e9e72cc5c7e"
      }
     }
    },
    "nbformat": 4,
    "nbformat_minor": 5
   }
   